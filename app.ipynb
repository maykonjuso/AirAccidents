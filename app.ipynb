{
 "cells": [
  {
   "attachments": {},
   "cell_type": "markdown",
   "id": "af51ad79-2a86-4c5a-aa7e-bae8e1e1b2bd",
   "metadata": {},
   "source": [
    "<h1>AirAccidents</h1>\n",
    "\n",
    "## Introdução \n",
    "\n",
    "O transporte aéreo desempenha um papel vital no desenvolvimento econômico e social de um país, proporcionando conectividade rápida e eficiente entre diferentes regiões. No entanto, como em qualquer modalidade de transporte, acidentes aéreos podem ocorrer, colocando em risco a vida dos passageiros e tripulantes, além de gerar impactos significativos na indústria e na segurança do setor.\n",
    "\n",
    "## Base de dados\n",
    "\n",
    "Arquivo: Segurança Operacional - Ocorrências Aeronáuticas - Formato CSV\n",
    "\n",
    "Base de dados das ocorrências aeronáuticas enviadas pela Força Aérea Brasileira por meio do CENIPA para a ANAC acrescido de informações enriquecidas pela ANAC.\n",
    "\n",
    "[Clique aqui para acessar a base de dados](https://dados.gov.br/dados/conjuntos-dados/ocorrncias-aeronuticas)\n"
   ]
  },
  {
   "cell_type": "code",
   "execution_count": 2,
   "id": "2cc7b773-6238-4b4c-921a-b243cab6b761",
   "metadata": {},
   "outputs": [],
   "source": [
    "import pandas as pd\n",
    "import numpy as np\n",
    "import dash"
   ]
  },
  {
   "cell_type": "code",
   "execution_count": 66,
   "id": "e5225611",
   "metadata": {},
   "outputs": [],
   "source": [
    "\n",
    "df = pd.read_csv('base.csv', delimiter=\";\")\n",
    "df = df.drop(columns = ['Numero_da_Ocorrencia', 'Numero_da_Ficha', 'Hora_da_Ocorrencia', 'ICAO', 'Tipo_de_Aerodromo', 'Aerodromo_de_Destino', 'Aerodromo_de_Origem','CLS', 'Tipo_ICAO', 'PMD', 'PSSO'])\n",
    "df['Data_da_Ocorrencia'] = df['Data_da_Ocorrencia'].apply(lambda x:'0' if x.split('/')[2] != '2022' else x)\n",
    "df = df[df['Data_da_Ocorrencia'] != '0']"
   ]
  },
  {
   "cell_type": "code",
   "execution_count": 67,
   "id": "98279f0d-615e-4810-ba63-bf0c1f25b7be",
   "metadata": {},
   "outputs": [],
   "source": [
    "df['Coordenadas'] = df['Latitude'] + \" \" + df['Longitude']\n",
    "df = df.drop(columns =['Latitude','Longitude'])\n",
    "df['Coordenadas'] = df['Coordenadas'].fillna('')\n",
    "df = df[df['Coordenadas'] != '']\n",
    "df.to_csv('base_tratada.csv')"
   ]
  }
 ],
 "metadata": {
  "kernelspec": {
   "display_name": "Python 3 (ipykernel)",
   "language": "python",
   "name": "python3"
  },
  "language_info": {
   "codemirror_mode": {
    "name": "ipython",
    "version": 3
   },
   "file_extension": ".py",
   "mimetype": "text/x-python",
   "name": "python",
   "nbconvert_exporter": "python",
   "pygments_lexer": "ipython3",
   "version": "3.10.6"
  }
 },
 "nbformat": 4,
 "nbformat_minor": 5
}
