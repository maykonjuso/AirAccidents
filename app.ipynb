{
 "cells": [
  {
   "attachments": {},
   "cell_type": "markdown",
   "id": "af51ad79-2a86-4c5a-aa7e-bae8e1e1b2bd",
   "metadata": {},
   "source": [
    "<h1>AirAccidents</h1>\n",
    "\n",
    "## Introdução \n",
    "\n",
    "O transporte aéreo desempenha um papel vital no desenvolvimento econômico e social de um país, proporcionando conectividade rápida e eficiente entre diferentes regiões. No entanto, como em qualquer modalidade de transporte, acidentes aéreos podem ocorrer, colocando em risco a vida dos passageiros e tripulantes, além de gerar impactos significativos na indústria e na segurança do setor.\n",
    "\n",
    "## Base de dados\n",
    "\n",
    "Arquivo: Segurança Operacional - Ocorrências Aeronáuticas - Formato CSV\n",
    "\n",
    "Base de dados das ocorrências aeronáuticas enviadas pela Força Aérea Brasileira por meio do CENIPA para a ANAC acrescido de informações enriquecidas pela ANAC.\n",
    "\n",
    "[Clique aqui para acessar a base de dados](https://dados.gov.br/dados/conjuntos-dados/ocorrncias-aeronuticas)\n"
   ]
  },
  {
   "cell_type": "code",
   "execution_count": 24,
   "id": "2cc7b773-6238-4b4c-921a-b243cab6b761",
   "metadata": {},
   "outputs": [],
   "source": [
    "import pandas as pd\n",
    "import numpy as np\n",
    "import folium # Para usar o mapa\n",
    "import folium.plugins as plugins # Para usar o cluster\n"
   ]
  },
  {
   "cell_type": "code",
   "execution_count": 25,
   "id": "e5225611",
   "metadata": {},
   "outputs": [],
   "source": [
    "\n",
    "df = pd.read_csv('base.csv', delimiter=\";\")\n",
    "df = df.drop(columns = ['Numero_da_Ocorrencia', 'Numero_da_Ficha', 'Hora_da_Ocorrencia', 'ICAO', 'Tipo_de_Aerodromo', 'Aerodromo_de_Destino', 'Aerodromo_de_Origem','CLS', 'Tipo_ICAO', 'PMD', 'PSSO'])\n",
    "df['Data_da_Ocorrencia'] = df['Data_da_Ocorrencia'].apply(lambda x:'0' if x.split('/')[2] != '2022' else x)\n",
    "df = df[df['Data_da_Ocorrencia'] != '0']"
   ]
  },
  {
   "cell_type": "code",
   "execution_count": 26,
   "id": "98279f0d-615e-4810-ba63-bf0c1f25b7be",
   "metadata": {},
   "outputs": [],
   "source": [
    "df['Coordenadas'] = df['Latitude'] + \" \" + df['Longitude']\n",
    "df = df.drop(columns =['Latitude','Longitude'])\n",
    "df['Coordenadas'] = df['Coordenadas'].fillna('')\n",
    "df = df[df['Coordenadas'] != '']\n",
    "df.to_csv('base_tratada.csv')"
   ]
  },
  {
   "cell_type": "code",
   "execution_count": 27,
   "id": "16a177bc",
   "metadata": {},
   "outputs": [],
   "source": [
    "m = folium.Map(location = [-15.763048872811966, -47.870631102672284],zoom_start = 10)"
   ]
  },
  {
   "cell_type": "code",
   "execution_count": 28,
   "id": "991365b4",
   "metadata": {},
   "outputs": [],
   "source": [
    "marker_cluster_graves = plugins.MarkerCluster(name = 'acidentes graves').add_to(m)\n",
    "marker_cluster_moderados = plugins.MarkerCluster(name = 'acidentes moderados',show = False).add_to(m)\n",
    "marker_cluster_leves = plugins.MarkerCluster(name = 'acidentes leves',show = False).add_to(m)"
   ]
  },
  {
   "cell_type": "code",
   "execution_count": 29,
   "id": "14dfb8da",
   "metadata": {},
   "outputs": [
    {
     "data": {
      "text/plain": [
       "Index(['Operador_Padronizado', 'Classificacao_da_Ocorrencia',\n",
       "       'Data_da_Ocorrencia', 'Municipio', 'UF', 'Regiao', 'Descricao_do_Tipo',\n",
       "       'Historico', 'Matricula', 'Categoria_da_Aeronave', 'Operador',\n",
       "       'Tipo_de_Ocorrencia', 'Fase_da_Operacao', 'Operacao',\n",
       "       'Danos_a_Aeronave', 'Lesoes_Fatais_Tripulantes',\n",
       "       'Lesoes_Fatais_Passageiros', 'Lesoes_Fatais_Terceiros',\n",
       "       'Lesoes_Graves_Tripulantes', 'Lesoes_Graves_Passageiros',\n",
       "       'Lesoes_Graves_Terceiros', 'Lesoes_Leves_Tripulantes',\n",
       "       'Lesoes_Leves_Passageiros', 'Lesoes_Leves_Terceiros',\n",
       "       'Ilesos_Tripulantes', 'Ilesos_Passageiros',\n",
       "       'Lesoes_Desconhecidas_Tripulantes', 'Lesoes_Desconhecidas_Passageiros',\n",
       "       'Lesoes_Desconhecidas_Terceiros', 'Modelo', 'Numero_de_Assentos',\n",
       "       'Nome_do_Fabricante', 'Coordenadas'],\n",
       "      dtype='object')"
      ]
     },
     "execution_count": 29,
     "metadata": {},
     "output_type": "execute_result"
    }
   ],
   "source": [
    "df.columns"
   ]
  },
  {
   "cell_type": "markdown",
   "id": "14b255f0",
   "metadata": {},
   "source": [
    "def fancy_html(row):\n",
    "    i = row\n",
    "    \n",
    "    Matricula = df_mapa['Matricula'].iloc[i]                             \n",
    "    Classificacaoo = df_mapa['Classificacao_da_Ocorrencia'].iloc[i]  \n",
    "    Historico = df_mapa['Historico']                         \n",
    "    LesoesFataisTripulantes = df_mapa['Lesoes_Fatais_Tripulantes'].iloc[i]\n",
    "    LesoesFataisPassageiros = df_mapa['Lesoes_Fatais_Passageiros'].iloc[i]                                                                    \n",
    "    \n",
    "    left_col_colour = \"#2A799C\"\n",
    "    right_col_colour = \"#C5DCE7\"\n",
    "    \n",
    "    html = \"\"\"<!DOCTYPE html>\n",
    "<html>\n",
    "\n",
    "<head>\n",
    "<h4 style=\"margin-bottom:0\"; width=\"300px\">{}</h4>\"\"\".format(Matricula) + \"\"\"\n",
    "\n",
    "</head>\n",
    "    <table style=\"height: 126px; width: 300px;\">\n",
    "<tbody>\n",
    "<tr>\n",
    "<td style=\"background-color: \"\"\"+ left_col_colour +\"\"\";\"><span style=\"color: #ffffff;\">Classificação</span></td>\n",
    "<td style=\"width: 200px;background-color: \"\"\"+ right_col_colour +\"\"\";\">{}</td>\"\"\".format(Classificacao) + \"\"\"\n",
    "</tr>\n",
    "<tr>\n",
    "<td style=\"background-color: \"\"\"+ left_col_colour +\"\"\";\"><span style=\"color: #ffffff;\">Histórico</span></td>\n",
    "<td style=\"width: 200px;background-color: \"\"\"+ right_col_colour +\"\"\";\">{}</td>\"\"\".format(Historico) + \"\"\"\n",
    "</tr>\n",
    "<tr>\n",
    "<td style=\"background-color: \"\"\"+ left_col_colour +\"\"\";\"><span style=\"color: #ffffff;\">Quantidade de passageiros mortos</span></td>\n",
    "<td style=\"width: 200px;background-color: \"\"\"+ right_col_colour +\"\"\";\">{}m²</td>\"\"\".format(Area_total) + \"\"\"\n",
    "</tr>\n",
    "<tr>\n",
    "<td style=\"background-color: \"\"\"+ left_col_colour +\"\"\";\"><span style=\"color: #ffffff;\">Quantidade de tripulantes mortos</span></td>\n",
    "<td style=\"width: 200px;background-color: \"\"\"+ right_col_colour +\"\"\";\">{}</td>\"\"\".format(LesoesFataisTripulantes) + \"\"\"\n",
    "</tr>\n",
    "</tbody>\n",
    "</table>\n",
    "</html>\n",
    "\"\"\"\n",
    "    return html"
   ]
  },
  {
   "cell_type": "markdown",
   "id": "0d303057",
   "metadata": {},
   "source": [
    "m"
   ]
  }
 ],
 "metadata": {
  "kernelspec": {
   "display_name": "Python 3 (ipykernel)",
   "language": "python",
   "name": "python3"
  },
  "language_info": {
   "codemirror_mode": {
    "name": "ipython",
    "version": 3
   },
   "file_extension": ".py",
   "mimetype": "text/x-python",
   "name": "python",
   "nbconvert_exporter": "python",
   "pygments_lexer": "ipython3",
   "version": "3.10.6"
  }
 },
 "nbformat": 4,
 "nbformat_minor": 5
}
